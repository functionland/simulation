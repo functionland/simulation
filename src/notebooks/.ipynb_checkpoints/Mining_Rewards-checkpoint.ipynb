{
 "cells": [
  {
   "cell_type": "markdown",
   "id": "46eee9a2",
   "metadata": {},
   "source": [
    "# Functionland Mining Rewards"
   ]
  },
  {
   "cell_type": "markdown",
   "id": "9902ed96",
   "metadata": {},
   "source": [
    "-----\n",
    "\n",
    "Last modified: March 3, 2022"
   ]
  },
  {
   "cell_type": "markdown",
   "id": "24947a24",
   "metadata": {},
   "source": [
    "# 1. System Parameters\n",
    "\n",
    "Some key parameters being utilized:\n",
    "\n",
    "- Cloud savings\n",
    "- Hardware buy in cost\n",
    "- Power consumption cost\n",
    "- Tokens earned per end user\n",
    "- Time (1 year)\n",
    "- Amount each token is valued (Market value)\n"
   ]
  },
  {
   "cell_type": "code",
   "execution_count": 1,
   "id": "9251241c",
   "metadata": {},
   "outputs": [],
   "source": [
    "system_params = {\n",
    "    \"cloud_savings_per_month\": 5,\n",
    "    \"hardware_buyin_cost\": 50,\n",
    "    \"power_consumption_costs_per_month\": 5,\n",
    "    \"tokens_mined_per_month\": 1000000,\n",
    "    \"miners\": 100,\n",
    "    \"time_in_years\": 1,\n",
    "    \"token_value\": 0.04\n",
    "}"
   ]
  },
  {
   "cell_type": "markdown",
   "id": "49a50bfe",
   "metadata": {},
   "source": [
    "# 2. Simulations"
   ]
  },
  {
   "cell_type": "code",
   "execution_count": 2,
   "id": "afe4cc65",
   "metadata": {},
   "outputs": [],
   "source": [
    "# Importing some libraries to help visualize\n",
    "import numpy as np \n",
    "import pandas as pd\n",
    "import matplotlib.pyplot as plt\n",
    "from mpl_toolkits import mplot3d"
   ]
  },
  {
   "cell_type": "markdown",
   "id": "ef1aec53",
   "metadata": {},
   "source": [
    "## 2.1 Cost Analysis"
   ]
  },
  {
   "cell_type": "markdown",
   "id": "9236db71",
   "metadata": {},
   "source": [
    "### 2.1.1 Cloud storage base line costs"
   ]
  },
  {
   "cell_type": "code",
   "execution_count": 3,
   "id": "ad5c25da",
   "metadata": {},
   "outputs": [
    {
     "name": "stdout",
     "output_type": "stream",
     "text": [
      "Current Avg. Cost: -$60 per year for cloud storage\n"
     ]
    }
   ],
   "source": [
    "# Assumed baseline avg, if we simulated many users we would see a \n",
    "# potential spread for this initial cost\n",
    "# Also assumes ONLY ONE cloud provider\n",
    "base_line_cost = (system_params['cloud_savings_per_month'] * 12 )   \n",
    "print('Current Avg. Cost: -$' + str(base_line_cost) + \" per year for cloud storage\")"
   ]
  },
  {
   "cell_type": "markdown",
   "id": "f0749646",
   "metadata": {},
   "source": [
    "### 2.1.2A | Functionland Box buy-in costs"
   ]
  },
  {
   "cell_type": "code",
   "execution_count": 4,
   "id": "2c320d62",
   "metadata": {},
   "outputs": [
    {
     "name": "stdout",
     "output_type": "stream",
     "text": [
      "Projected buy-in cost: -$50\n"
     ]
    }
   ],
   "source": [
    "# Functionland Box buy-in costs         \n",
    "funcBox_cost = (system_params['hardware_buyin_cost'] )\n",
    "print('Projected buy-in cost: -$' + str(funcBox_cost))"
   ]
  },
  {
   "cell_type": "markdown",
   "id": "eb1f7501",
   "metadata": {},
   "source": [
    "### 2.1.2B | Projected Yearly Power Costs"
   ]
  },
  {
   "cell_type": "code",
   "execution_count": 5,
   "id": "dfc0ac7e",
   "metadata": {},
   "outputs": [
    {
     "name": "stdout",
     "output_type": "stream",
     "text": [
      "Projected yearly power cost: -$60\n"
     ]
    }
   ],
   "source": [
    "yearly_power_costs = (system_params['power_consumption_costs_per_month'] * 12)\n",
    "print('Projected yearly power cost: -$' + str(yearly_power_costs))"
   ]
  },
  {
   "cell_type": "code",
   "execution_count": 6,
   "id": "d08ff79c",
   "metadata": {},
   "outputs": [],
   "source": [
    "# Will be used in section 2.3\n",
    "running_power_costs = []\n",
    "\n",
    "running_cloud_costs = []"
   ]
  },
  {
   "cell_type": "code",
   "execution_count": 7,
   "id": "23ee09a4",
   "metadata": {},
   "outputs": [],
   "source": [
    "running_cloud_costs.append(system_params['cloud_savings_per_month'])\n",
    "running_power_costs.append(system_params['power_consumption_costs_per_month'])\n",
    "for i in range(1, 12):\n",
    "    running_cloud_costs.append(running_cloud_costs[i - 1] + system_params['cloud_savings_per_month'])\n",
    "    running_power_costs.append(running_power_costs[i - 1] + system_params['power_consumption_costs_per_month'])"
   ]
  },
  {
   "cell_type": "code",
   "execution_count": 8,
   "id": "538c378d",
   "metadata": {},
   "outputs": [],
   "source": [
    "x = [i for i in range(1, 13)]"
   ]
  },
  {
   "cell_type": "code",
   "execution_count": 9,
   "id": "f7ff0922",
   "metadata": {},
   "outputs": [
    {
     "data": {
      "image/png": "[encoded data removed]",
      "text/plain": [
       "<Figure size 432x288 with 1 Axes>"
      ]
     },
     "metadata": {
      "needs_background": "light"
     },
     "output_type": "display_data"
    }
   ],
   "source": [
    "plt.title('Yearly Cloud Storage Cost')\n",
    "plt.xlabel('Month')\n",
    "plt.ylabel('Cost in US Dollars')\n",
    "plt.plot(x, running_cloud_costs,'o:r', label='Storage Costs')\n",
    "plt.legend(loc=4)\n",
    "plt.show()"
   ]
  },
  {
   "cell_type": "markdown",
   "id": "eb7eb9f4",
   "metadata": {},
   "source": [
    "## 2.3 Benefits of Using this system"
   ]
  },
  {
   "cell_type": "markdown",
   "id": "84821758",
   "metadata": {},
   "source": [
    "While the obvious one is potential for earning money, the is also the benefit of hosting your own data!\n"
   ]
  },
  {
   "cell_type": "code",
   "execution_count": 10,
   "id": "0570d3a5",
   "metadata": {},
   "outputs": [],
   "source": [
    "# Calculate the tokens mined per user \n",
    "tokens_per_user = (system_params['tokens_mined_per_month'] \n",
    "                   / system_params['miners'])\n",
    "\n",
    "# Show the graph of the tokens earned in the month at 0.04"
   ]
  },
  {
   "cell_type": "code",
   "execution_count": 11,
   "id": "15cdaec0",
   "metadata": {},
   "outputs": [],
   "source": [
    "# Users (Miners)\n",
    "# show the drop in amount per miner\n",
    "miners_over_a_year = [system_params['miners'] * 1.05 for i in range(0, 12)]\n",
    "\n",
    "# time \n",
    "xline = running_power_costs\n",
    "\n",
    "# Token value, increasing one cent per month\n",
    "token_value = [0.04 + (i * 0.01) for i in range(0, 12)]"
   ]
  },
  {
   "cell_type": "code",
   "execution_count": 12,
   "id": "a5fc131b",
   "metadata": {
    "scrolled": false
   },
   "outputs": [
    {
     "data": {
      "image/png": "[encoded data removed]",
      "text/plain": [
       "<Figure size 432x288 with 1 Axes>"
      ]
     },
     "metadata": {
      "needs_background": "light"
     },
     "output_type": "display_data"
    }
   ],
   "source": [
    "months = [i for i in range(1, 13)]\n",
    "\n",
    "plt.title('Token Value over One Year')\n",
    "plt.xlabel('Months')\n",
    "plt.ylabel('Token Value at a 1% increase')\n",
    "plt.plot(months, token_value, 'b-')\n",
    "plt.show()"
   ]
  },
  {
   "cell_type": "code",
   "execution_count": 13,
   "id": "42bb4a95",
   "metadata": {},
   "outputs": [],
   "source": [
    "tokens_avg_per_month = [system_params['tokens_mined_per_month'] / miners_over_a_year[i - 1] for i in range(1, 13)]"
   ]
  },
  {
   "cell_type": "code",
   "execution_count": 14,
   "id": "a14cace1",
   "metadata": {},
   "outputs": [],
   "source": [
    "monthly_avgs = []\n",
    "monthly_avgs.append(round(tokens_avg_per_month[0], 2))"
   ]
  },
  {
   "cell_type": "code",
   "execution_count": 15,
   "id": "dc50bc2a",
   "metadata": {},
   "outputs": [],
   "source": [
    "for i in range(1, 12):\n",
    "    monthly_avgs.append(round(monthly_avgs[i - 1] + tokens_avg_per_month[i], 2))"
   ]
  },
  {
   "cell_type": "code",
   "execution_count": 16,
   "id": "2cebf3c8",
   "metadata": {},
   "outputs": [
    {
     "data": {
      "text/plain": [
       "[9523.81,\n",
       " 19047.62,\n",
       " 28571.43,\n",
       " 38095.24,\n",
       " 47619.05,\n",
       " 57142.86,\n",
       " 66666.67,\n",
       " 76190.48,\n",
       " 85714.29,\n",
       " 95238.1,\n",
       " 104761.91,\n",
       " 114285.72]"
      ]
     },
     "execution_count": 16,
     "metadata": {},
     "output_type": "execute_result"
    }
   ],
   "source": [
    "monthly_avgs"
   ]
  },
  {
   "cell_type": "code",
   "execution_count": 17,
   "id": "ec4e3100",
   "metadata": {},
   "outputs": [],
   "source": [
    "avg_token_value = [round(monthly_avgs[i] * token_value[i], 2) for i in range(0, 12)]"
   ]
  },
  {
   "cell_type": "code",
   "execution_count": 18,
   "id": "a7f877a0",
   "metadata": {},
   "outputs": [
    {
     "data": {
      "image/png": "[encoded data removed]",
      "text/plain": [
       "<Figure size 432x288 with 1 Axes>"
      ]
     },
     "metadata": {
      "needs_background": "light"
     },
     "output_type": "display_data"
    }
   ],
   "source": [
    "plt.title('Tokens Mined in 1 year')\n",
    "plt.xlabel('Months')\n",
    "plt.ylabel('Tokens Mined by a User')\n",
    "plt.plot(months, monthly_avgs, 'b', label='Tot. Mined')\n",
    "plt.show()"
   ]
  },
  {
   "cell_type": "markdown",
   "id": "23ceb9c4",
   "metadata": {},
   "source": [
    "#### The next chart should update based on the percentage of price increase from earlier (Will be easier to manipulate in the final web app)"
   ]
  },
  {
   "cell_type": "code",
   "execution_count": 19,
   "id": "25757568",
   "metadata": {},
   "outputs": [
    {
     "data": {
      "image/png": "[encoded data removed]",
      "text/plain": [
       "<Figure size 432x288 with 1 Axes>"
      ]
     },
     "metadata": {
      "needs_background": "light"
     },
     "output_type": "display_data"
    }
   ],
   "source": [
    "plt.title('Token Value Increased by a %')\n",
    "plt.xlabel('Months')\n",
    "plt.ylabel('Cost in USD')\n",
    "plt.plot(months, token_value, 'o:r', label='Token Value')\n",
    "plt.show()"
   ]
  },
  {
   "cell_type": "markdown",
   "id": "5f042ebc",
   "metadata": {},
   "source": [
    "## 2.4 The Power Constant"
   ]
  },
  {
   "cell_type": "code",
   "execution_count": 20,
   "id": "25a71fdd",
   "metadata": {},
   "outputs": [
    {
     "data": {
      "image/png": "[encoded data removed]",
      "text/plain": [
       "<Figure size 432x288 with 1 Axes>"
      ]
     },
     "metadata": {
      "needs_background": "light"
     },
     "output_type": "display_data"
    }
   ],
   "source": [
    "plt.title('Total Power Cost in 1 year')\n",
    "plt.xlabel('Months')\n",
    "plt.ylabel('Cost in USD')\n",
    "plt.plot(months, running_power_costs, 'g', label='Power Cost')\n",
    "plt.show()"
   ]
  },
  {
   "cell_type": "markdown",
   "id": "3c339ec2",
   "metadata": {},
   "source": [
    "Looks intimidating, and could become an issue, however, as the token value increases and the users continue to mine tokens then this cost would eventually become a menial number. "
   ]
  },
  {
   "cell_type": "markdown",
   "id": "e3f87b93",
   "metadata": {},
   "source": [
    "## 2.5 Break Even Point"
   ]
  },
  {
   "cell_type": "markdown",
   "id": "a6aa4914",
   "metadata": {},
   "source": [
    "From what we have seen up to this point, the break even would be *almost* instantaneous (in the scope of a year). The end user would gain back the costs of their cloud storage, retain their data privacy, and gain some (potential) for income on the side. \n",
    "\n",
    "The main costs that would arise from this situation though are: \n",
    "\n",
    "- Buying additional tower silos (for a single base, this would be limited to 8 additional one time purchases)\n",
    "- Repeat the above one time cost(s) for a user who buys 2 or more of the devices (all silos and base) \n",
    "     - This will happen, but I don't image people would be trying to buy 50 of these at a time unless a business attempts to \"hog the portions for themselves\"\n",
    "     - Given the rest of the tech docs, that scenario would only benefit the network still so no harm done at this point\n",
    "     \n",
    "\n",
    "Assuming a buyin cost of $50, the user would be in the green after a couple months, if the user only got around 200 tokens at 0.04 then they would break even after 6ish (almost 7) months."
   ]
  },
  {
   "cell_type": "markdown",
   "id": "b92a3f3e",
   "metadata": {},
   "source": [
    "# 3. Conclusions and Examples"
   ]
  },
  {
   "cell_type": "markdown",
   "id": "57a0eb4b",
   "metadata": {},
   "source": [
    "## 3.1 Token Price Range"
   ]
  },
  {
   "cell_type": "markdown",
   "id": "c2779d2d",
   "metadata": {},
   "source": [
    "### One year of mining at 0.04 cents, however, would yield: "
   ]
  },
  {
   "cell_type": "code",
   "execution_count": 21,
   "id": "6c39bcdf",
   "metadata": {},
   "outputs": [
    {
     "data": {
      "text/plain": [
       "4571.43"
      ]
     },
     "execution_count": 21,
     "metadata": {},
     "output_type": "execute_result"
    }
   ],
   "source": [
    "round(monthly_avgs[-1] * 0.04, 2)"
   ]
  },
  {
   "cell_type": "markdown",
   "id": "41e539b6",
   "metadata": {},
   "source": [
    "### End of the year but at 0.10 cents"
   ]
  },
  {
   "cell_type": "code",
   "execution_count": 22,
   "id": "2f318831",
   "metadata": {
    "scrolled": false
   },
   "outputs": [
    {
     "data": {
      "text/plain": [
       "11428.57"
      ]
     },
     "execution_count": 22,
     "metadata": {},
     "output_type": "execute_result"
    }
   ],
   "source": [
    "round(monthly_avgs[-1] * 0.10, 2)"
   ]
  },
  {
   "cell_type": "markdown",
   "id": "39778006",
   "metadata": {},
   "source": [
    "## 3.2 How many tokens after 4 months? "
   ]
  },
  {
   "cell_type": "code",
   "execution_count": 23,
   "id": "3812b0d7",
   "metadata": {},
   "outputs": [],
   "source": [
    "# Token value, increasing one cent per month\n",
    "PRICE = 0.10\n",
    "token_value = [ round(PRICE + (i * 0.01), 2) for i in range(0, 12)]"
   ]
  },
  {
   "cell_type": "code",
   "execution_count": 24,
   "id": "c5d87eac",
   "metadata": {},
   "outputs": [
    {
     "name": "stdout",
     "output_type": "stream",
     "text": [
      "With 100 miners, a user would be able to mine 38095.24 tokens in 4 months\n"
     ]
    }
   ],
   "source": [
    "# After 4 months, a user would hold \n",
    "TOKENS_HELD = monthly_avgs[3]\n",
    "print('With ' + str(system_params['miners']) + ' miners, a user would be able to mine ' + str(round(monthly_avgs[3], 2)) + ' tokens in 4 months')"
   ]
  },
  {
   "cell_type": "markdown",
   "id": "2b41cce1",
   "metadata": {},
   "source": [
    "## 3.2.1 What is their value if the token value is 5 cents?"
   ]
  },
  {
   "cell_type": "code",
   "execution_count": 29,
   "id": "159dd249",
   "metadata": {},
   "outputs": [],
   "source": [
    "PRICE = 0.05\n",
    "TOKENS_AFTER_4_MONTHS = round(monthly_avgs[3], 2)"
   ]
  },
  {
   "cell_type": "code",
   "execution_count": 31,
   "id": "aaa7b4f3",
   "metadata": {},
   "outputs": [
    {
     "name": "stdout",
     "output_type": "stream",
     "text": [
      "$1904.762\n"
     ]
    }
   ],
   "source": [
    "print(\"$\" + str(TOKENS_AFTER_4_MONTHS * PRICE))"
   ]
  },
  {
   "cell_type": "markdown",
   "id": "9d9b0de7",
   "metadata": {},
   "source": [
    "## 3.3 Disclaimers"
   ]
  },
  {
   "cell_type": "markdown",
   "id": "91290bae",
   "metadata": {},
   "source": [
    "### Keep in mind, this is one scenerio and these parameters will be adjustable in the dashboard app.\n",
    "\n",
    "\n",
    "### Also note, this simulations numbers are on an assumption there is only 100 miners (if that number goes up, obviously the amount each earns in a month will *go down*)"
   ]
  },
  {
   "cell_type": "code",
   "execution_count": null,
   "id": "7fe82b61",
   "metadata": {},
   "outputs": [],
   "source": []
  }
 ],
 "metadata": {
  "kernelspec": {
   "display_name": "functionland",
   "language": "python",
   "name": "functionland"
  },
  "language_info": {
   "codemirror_mode": {
    "name": "ipython",
    "version": 3
   },
   "file_extension": ".py",
   "mimetype": "text/x-python",
   "name": "python",
   "nbconvert_exporter": "python",
   "pygments_lexer": "ipython3",
   "version": "3.8.10"
  }
 },
 "nbformat": 4,
 "nbformat_minor": 5
}
